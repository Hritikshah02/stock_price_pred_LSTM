{
  "cells": [
    {
      "cell_type": "code",
      "execution_count": 1,
      "id": "b32e0a0f-d2f8-47ab-a92f-abd6c4d25a1c",
      "metadata": {
        "id": "b32e0a0f-d2f8-47ab-a92f-abd6c4d25a1c"
      },
      "outputs": [],
      "source": [
        "import numpy as np\n",
        "import pandas as pd\n",
        "import matplotlib.pyplot as plt\n",
        "import yfinance as yf\n",
        "import time"
      ]
    },
    {
      "cell_type": "code",
      "execution_count": 2,
      "id": "effe822e-808f-48c1-96c8-d29f6ad06e7b",
      "metadata": {
        "colab": {
          "base_uri": "https://localhost:8080/"
        },
        "id": "effe822e-808f-48c1-96c8-d29f6ad06e7b",
        "outputId": "17252e7d-35c4-456d-e22f-dea7e06917a3"
      },
      "outputs": [
        {
          "output_type": "stream",
          "name": "stdout",
          "text": [
            "YF.download() has changed argument auto_adjust default to True\n"
          ]
        },
        {
          "output_type": "stream",
          "name": "stderr",
          "text": [
            "\r[*********************100%***********************]  1 of 1 completed\n"
          ]
        }
      ],
      "source": [
        "start = '2012-01-01'\n",
        "end = '2022-12-21'\n",
        "stock = 'GOOG'\n",
        "\n",
        "data = yf.download(stock, start, end)\n",
        "time.sleep(2)"
      ]
    },
    {
      "cell_type": "code",
      "execution_count": 3,
      "id": "935c8faf-5c6f-411a-8b49-f74ef75bf108",
      "metadata": {
        "id": "935c8faf-5c6f-411a-8b49-f74ef75bf108"
      },
      "outputs": [],
      "source": [
        "data.reset_index(inplace=True)\n"
      ]
    },
    {
      "cell_type": "code",
      "execution_count": 4,
      "id": "5ba00795-0e12-4f90-85f4-5cd0ff732b06",
      "metadata": {
        "colab": {
          "base_uri": "https://localhost:8080/",
          "height": 455
        },
        "id": "5ba00795-0e12-4f90-85f4-5cd0ff732b06",
        "outputId": "df1af220-a9ef-4e30-f565-29052657cb97"
      },
      "outputs": [
        {
          "output_type": "execute_result",
          "data": {
            "text/plain": [
              "Price        Date      Close       High        Low       Open     Volume\n",
              "Ticker                  GOOG       GOOG       GOOG       GOOG       GOOG\n",
              "0      2012-01-03  16.495001  16.562924  16.171749  16.185880  147611217\n",
              "1      2012-01-04  16.566147  16.614982  16.376262  16.485582  114989399\n",
              "2      2012-01-05  16.336349  16.459304  16.267435  16.413692  131808205\n",
              "3      2012-01-06  16.113497  16.360893  16.107794  16.339821  108119746\n",
              "4      2012-01-09  15.430305  16.038633  15.399813  16.026237  233776981\n",
              "...           ...        ...        ...        ...        ...        ...\n",
              "2756   2022-12-14  94.860695  96.761695  93.497158  95.089614   26452900\n",
              "2757   2022-12-15  90.770073  93.586734  90.003706  93.099046   28298800\n",
              "2758   2022-12-16  90.431671  91.317475  89.585680  90.770065   48485500\n",
              "2759   2022-12-19  88.729736  90.770068  88.505799  90.451577   23020500\n",
              "2760   2022-12-20  89.207474  89.356768  87.624973  88.311723   21976800\n",
              "\n",
              "[2761 rows x 6 columns]"
            ],
            "text/html": [
              "\n",
              "  <div id=\"df-c2022cf6-49e9-4af2-820d-f7b936d4c65b\" class=\"colab-df-container\">\n",
              "    <div>\n",
              "<style scoped>\n",
              "    .dataframe tbody tr th:only-of-type {\n",
              "        vertical-align: middle;\n",
              "    }\n",
              "\n",
              "    .dataframe tbody tr th {\n",
              "        vertical-align: top;\n",
              "    }\n",
              "\n",
              "    .dataframe thead tr th {\n",
              "        text-align: left;\n",
              "    }\n",
              "</style>\n",
              "<table border=\"1\" class=\"dataframe\">\n",
              "  <thead>\n",
              "    <tr>\n",
              "      <th>Price</th>\n",
              "      <th>Date</th>\n",
              "      <th>Close</th>\n",
              "      <th>High</th>\n",
              "      <th>Low</th>\n",
              "      <th>Open</th>\n",
              "      <th>Volume</th>\n",
              "    </tr>\n",
              "    <tr>\n",
              "      <th>Ticker</th>\n",
              "      <th></th>\n",
              "      <th>GOOG</th>\n",
              "      <th>GOOG</th>\n",
              "      <th>GOOG</th>\n",
              "      <th>GOOG</th>\n",
              "      <th>GOOG</th>\n",
              "    </tr>\n",
              "  </thead>\n",
              "  <tbody>\n",
              "    <tr>\n",
              "      <th>0</th>\n",
              "      <td>2012-01-03</td>\n",
              "      <td>16.495001</td>\n",
              "      <td>16.562924</td>\n",
              "      <td>16.171749</td>\n",
              "      <td>16.185880</td>\n",
              "      <td>147611217</td>\n",
              "    </tr>\n",
              "    <tr>\n",
              "      <th>1</th>\n",
              "      <td>2012-01-04</td>\n",
              "      <td>16.566147</td>\n",
              "      <td>16.614982</td>\n",
              "      <td>16.376262</td>\n",
              "      <td>16.485582</td>\n",
              "      <td>114989399</td>\n",
              "    </tr>\n",
              "    <tr>\n",
              "      <th>2</th>\n",
              "      <td>2012-01-05</td>\n",
              "      <td>16.336349</td>\n",
              "      <td>16.459304</td>\n",
              "      <td>16.267435</td>\n",
              "      <td>16.413692</td>\n",
              "      <td>131808205</td>\n",
              "    </tr>\n",
              "    <tr>\n",
              "      <th>3</th>\n",
              "      <td>2012-01-06</td>\n",
              "      <td>16.113497</td>\n",
              "      <td>16.360893</td>\n",
              "      <td>16.107794</td>\n",
              "      <td>16.339821</td>\n",
              "      <td>108119746</td>\n",
              "    </tr>\n",
              "    <tr>\n",
              "      <th>4</th>\n",
              "      <td>2012-01-09</td>\n",
              "      <td>15.430305</td>\n",
              "      <td>16.038633</td>\n",
              "      <td>15.399813</td>\n",
              "      <td>16.026237</td>\n",
              "      <td>233776981</td>\n",
              "    </tr>\n",
              "    <tr>\n",
              "      <th>...</th>\n",
              "      <td>...</td>\n",
              "      <td>...</td>\n",
              "      <td>...</td>\n",
              "      <td>...</td>\n",
              "      <td>...</td>\n",
              "      <td>...</td>\n",
              "    </tr>\n",
              "    <tr>\n",
              "      <th>2756</th>\n",
              "      <td>2022-12-14</td>\n",
              "      <td>94.860695</td>\n",
              "      <td>96.761695</td>\n",
              "      <td>93.497158</td>\n",
              "      <td>95.089614</td>\n",
              "      <td>26452900</td>\n",
              "    </tr>\n",
              "    <tr>\n",
              "      <th>2757</th>\n",
              "      <td>2022-12-15</td>\n",
              "      <td>90.770073</td>\n",
              "      <td>93.586734</td>\n",
              "      <td>90.003706</td>\n",
              "      <td>93.099046</td>\n",
              "      <td>28298800</td>\n",
              "    </tr>\n",
              "    <tr>\n",
              "      <th>2758</th>\n",
              "      <td>2022-12-16</td>\n",
              "      <td>90.431671</td>\n",
              "      <td>91.317475</td>\n",
              "      <td>89.585680</td>\n",
              "      <td>90.770065</td>\n",
              "      <td>48485500</td>\n",
              "    </tr>\n",
              "    <tr>\n",
              "      <th>2759</th>\n",
              "      <td>2022-12-19</td>\n",
              "      <td>88.729736</td>\n",
              "      <td>90.770068</td>\n",
              "      <td>88.505799</td>\n",
              "      <td>90.451577</td>\n",
              "      <td>23020500</td>\n",
              "    </tr>\n",
              "    <tr>\n",
              "      <th>2760</th>\n",
              "      <td>2022-12-20</td>\n",
              "      <td>89.207474</td>\n",
              "      <td>89.356768</td>\n",
              "      <td>87.624973</td>\n",
              "      <td>88.311723</td>\n",
              "      <td>21976800</td>\n",
              "    </tr>\n",
              "  </tbody>\n",
              "</table>\n",
              "<p>2761 rows × 6 columns</p>\n",
              "</div>\n",
              "    <div class=\"colab-df-buttons\">\n",
              "\n",
              "  <div class=\"colab-df-container\">\n",
              "    <button class=\"colab-df-convert\" onclick=\"convertToInteractive('df-c2022cf6-49e9-4af2-820d-f7b936d4c65b')\"\n",
              "            title=\"Convert this dataframe to an interactive table.\"\n",
              "            style=\"display:none;\">\n",
              "\n",
              "  <svg xmlns=\"http://www.w3.org/2000/svg\" height=\"24px\" viewBox=\"0 -960 960 960\">\n",
              "    <path d=\"M120-120v-720h720v720H120Zm60-500h600v-160H180v160Zm220 220h160v-160H400v160Zm0 220h160v-160H400v160ZM180-400h160v-160H180v160Zm440 0h160v-160H620v160ZM180-180h160v-160H180v160Zm440 0h160v-160H620v160Z\"/>\n",
              "  </svg>\n",
              "    </button>\n",
              "\n",
              "  <style>\n",
              "    .colab-df-container {\n",
              "      display:flex;\n",
              "      gap: 12px;\n",
              "    }\n",
              "\n",
              "    .colab-df-convert {\n",
              "      background-color: #E8F0FE;\n",
              "      border: none;\n",
              "      border-radius: 50%;\n",
              "      cursor: pointer;\n",
              "      display: none;\n",
              "      fill: #1967D2;\n",
              "      height: 32px;\n",
              "      padding: 0 0 0 0;\n",
              "      width: 32px;\n",
              "    }\n",
              "\n",
              "    .colab-df-convert:hover {\n",
              "      background-color: #E2EBFA;\n",
              "      box-shadow: 0px 1px 2px rgba(60, 64, 67, 0.3), 0px 1px 3px 1px rgba(60, 64, 67, 0.15);\n",
              "      fill: #174EA6;\n",
              "    }\n",
              "\n",
              "    .colab-df-buttons div {\n",
              "      margin-bottom: 4px;\n",
              "    }\n",
              "\n",
              "    [theme=dark] .colab-df-convert {\n",
              "      background-color: #3B4455;\n",
              "      fill: #D2E3FC;\n",
              "    }\n",
              "\n",
              "    [theme=dark] .colab-df-convert:hover {\n",
              "      background-color: #434B5C;\n",
              "      box-shadow: 0px 1px 3px 1px rgba(0, 0, 0, 0.15);\n",
              "      filter: drop-shadow(0px 1px 2px rgba(0, 0, 0, 0.3));\n",
              "      fill: #FFFFFF;\n",
              "    }\n",
              "  </style>\n",
              "\n",
              "    <script>\n",
              "      const buttonEl =\n",
              "        document.querySelector('#df-c2022cf6-49e9-4af2-820d-f7b936d4c65b button.colab-df-convert');\n",
              "      buttonEl.style.display =\n",
              "        google.colab.kernel.accessAllowed ? 'block' : 'none';\n",
              "\n",
              "      async function convertToInteractive(key) {\n",
              "        const element = document.querySelector('#df-c2022cf6-49e9-4af2-820d-f7b936d4c65b');\n",
              "        const dataTable =\n",
              "          await google.colab.kernel.invokeFunction('convertToInteractive',\n",
              "                                                    [key], {});\n",
              "        if (!dataTable) return;\n",
              "\n",
              "        const docLinkHtml = 'Like what you see? Visit the ' +\n",
              "          '<a target=\"_blank\" href=https://colab.research.google.com/notebooks/data_table.ipynb>data table notebook</a>'\n",
              "          + ' to learn more about interactive tables.';\n",
              "        element.innerHTML = '';\n",
              "        dataTable['output_type'] = 'display_data';\n",
              "        await google.colab.output.renderOutput(dataTable, element);\n",
              "        const docLink = document.createElement('div');\n",
              "        docLink.innerHTML = docLinkHtml;\n",
              "        element.appendChild(docLink);\n",
              "      }\n",
              "    </script>\n",
              "  </div>\n",
              "\n",
              "\n",
              "<div id=\"df-f76f3196-3467-4884-a3de-a2336e8261f7\">\n",
              "  <button class=\"colab-df-quickchart\" onclick=\"quickchart('df-f76f3196-3467-4884-a3de-a2336e8261f7')\"\n",
              "            title=\"Suggest charts\"\n",
              "            style=\"display:none;\">\n",
              "\n",
              "<svg xmlns=\"http://www.w3.org/2000/svg\" height=\"24px\"viewBox=\"0 0 24 24\"\n",
              "     width=\"24px\">\n",
              "    <g>\n",
              "        <path d=\"M19 3H5c-1.1 0-2 .9-2 2v14c0 1.1.9 2 2 2h14c1.1 0 2-.9 2-2V5c0-1.1-.9-2-2-2zM9 17H7v-7h2v7zm4 0h-2V7h2v10zm4 0h-2v-4h2v4z\"/>\n",
              "    </g>\n",
              "</svg>\n",
              "  </button>\n",
              "\n",
              "<style>\n",
              "  .colab-df-quickchart {\n",
              "      --bg-color: #E8F0FE;\n",
              "      --fill-color: #1967D2;\n",
              "      --hover-bg-color: #E2EBFA;\n",
              "      --hover-fill-color: #174EA6;\n",
              "      --disabled-fill-color: #AAA;\n",
              "      --disabled-bg-color: #DDD;\n",
              "  }\n",
              "\n",
              "  [theme=dark] .colab-df-quickchart {\n",
              "      --bg-color: #3B4455;\n",
              "      --fill-color: #D2E3FC;\n",
              "      --hover-bg-color: #434B5C;\n",
              "      --hover-fill-color: #FFFFFF;\n",
              "      --disabled-bg-color: #3B4455;\n",
              "      --disabled-fill-color: #666;\n",
              "  }\n",
              "\n",
              "  .colab-df-quickchart {\n",
              "    background-color: var(--bg-color);\n",
              "    border: none;\n",
              "    border-radius: 50%;\n",
              "    cursor: pointer;\n",
              "    display: none;\n",
              "    fill: var(--fill-color);\n",
              "    height: 32px;\n",
              "    padding: 0;\n",
              "    width: 32px;\n",
              "  }\n",
              "\n",
              "  .colab-df-quickchart:hover {\n",
              "    background-color: var(--hover-bg-color);\n",
              "    box-shadow: 0 1px 2px rgba(60, 64, 67, 0.3), 0 1px 3px 1px rgba(60, 64, 67, 0.15);\n",
              "    fill: var(--button-hover-fill-color);\n",
              "  }\n",
              "\n",
              "  .colab-df-quickchart-complete:disabled,\n",
              "  .colab-df-quickchart-complete:disabled:hover {\n",
              "    background-color: var(--disabled-bg-color);\n",
              "    fill: var(--disabled-fill-color);\n",
              "    box-shadow: none;\n",
              "  }\n",
              "\n",
              "  .colab-df-spinner {\n",
              "    border: 2px solid var(--fill-color);\n",
              "    border-color: transparent;\n",
              "    border-bottom-color: var(--fill-color);\n",
              "    animation:\n",
              "      spin 1s steps(1) infinite;\n",
              "  }\n",
              "\n",
              "  @keyframes spin {\n",
              "    0% {\n",
              "      border-color: transparent;\n",
              "      border-bottom-color: var(--fill-color);\n",
              "      border-left-color: var(--fill-color);\n",
              "    }\n",
              "    20% {\n",
              "      border-color: transparent;\n",
              "      border-left-color: var(--fill-color);\n",
              "      border-top-color: var(--fill-color);\n",
              "    }\n",
              "    30% {\n",
              "      border-color: transparent;\n",
              "      border-left-color: var(--fill-color);\n",
              "      border-top-color: var(--fill-color);\n",
              "      border-right-color: var(--fill-color);\n",
              "    }\n",
              "    40% {\n",
              "      border-color: transparent;\n",
              "      border-right-color: var(--fill-color);\n",
              "      border-top-color: var(--fill-color);\n",
              "    }\n",
              "    60% {\n",
              "      border-color: transparent;\n",
              "      border-right-color: var(--fill-color);\n",
              "    }\n",
              "    80% {\n",
              "      border-color: transparent;\n",
              "      border-right-color: var(--fill-color);\n",
              "      border-bottom-color: var(--fill-color);\n",
              "    }\n",
              "    90% {\n",
              "      border-color: transparent;\n",
              "      border-bottom-color: var(--fill-color);\n",
              "    }\n",
              "  }\n",
              "</style>\n",
              "\n",
              "  <script>\n",
              "    async function quickchart(key) {\n",
              "      const quickchartButtonEl =\n",
              "        document.querySelector('#' + key + ' button');\n",
              "      quickchartButtonEl.disabled = true;  // To prevent multiple clicks.\n",
              "      quickchartButtonEl.classList.add('colab-df-spinner');\n",
              "      try {\n",
              "        const charts = await google.colab.kernel.invokeFunction(\n",
              "            'suggestCharts', [key], {});\n",
              "      } catch (error) {\n",
              "        console.error('Error during call to suggestCharts:', error);\n",
              "      }\n",
              "      quickchartButtonEl.classList.remove('colab-df-spinner');\n",
              "      quickchartButtonEl.classList.add('colab-df-quickchart-complete');\n",
              "    }\n",
              "    (() => {\n",
              "      let quickchartButtonEl =\n",
              "        document.querySelector('#df-f76f3196-3467-4884-a3de-a2336e8261f7 button');\n",
              "      quickchartButtonEl.style.display =\n",
              "        google.colab.kernel.accessAllowed ? 'block' : 'none';\n",
              "    })();\n",
              "  </script>\n",
              "</div>\n",
              "\n",
              "  <div id=\"id_3c5520a7-a95b-4efa-87d1-87352b17fb7c\">\n",
              "    <style>\n",
              "      .colab-df-generate {\n",
              "        background-color: #E8F0FE;\n",
              "        border: none;\n",
              "        border-radius: 50%;\n",
              "        cursor: pointer;\n",
              "        display: none;\n",
              "        fill: #1967D2;\n",
              "        height: 32px;\n",
              "        padding: 0 0 0 0;\n",
              "        width: 32px;\n",
              "      }\n",
              "\n",
              "      .colab-df-generate:hover {\n",
              "        background-color: #E2EBFA;\n",
              "        box-shadow: 0px 1px 2px rgba(60, 64, 67, 0.3), 0px 1px 3px 1px rgba(60, 64, 67, 0.15);\n",
              "        fill: #174EA6;\n",
              "      }\n",
              "\n",
              "      [theme=dark] .colab-df-generate {\n",
              "        background-color: #3B4455;\n",
              "        fill: #D2E3FC;\n",
              "      }\n",
              "\n",
              "      [theme=dark] .colab-df-generate:hover {\n",
              "        background-color: #434B5C;\n",
              "        box-shadow: 0px 1px 3px 1px rgba(0, 0, 0, 0.15);\n",
              "        filter: drop-shadow(0px 1px 2px rgba(0, 0, 0, 0.3));\n",
              "        fill: #FFFFFF;\n",
              "      }\n",
              "    </style>\n",
              "    <button class=\"colab-df-generate\" onclick=\"generateWithVariable('data')\"\n",
              "            title=\"Generate code using this dataframe.\"\n",
              "            style=\"display:none;\">\n",
              "\n",
              "  <svg xmlns=\"http://www.w3.org/2000/svg\" height=\"24px\"viewBox=\"0 0 24 24\"\n",
              "       width=\"24px\">\n",
              "    <path d=\"M7,19H8.4L18.45,9,17,7.55,7,17.6ZM5,21V16.75L18.45,3.32a2,2,0,0,1,2.83,0l1.4,1.43a1.91,1.91,0,0,1,.58,1.4,1.91,1.91,0,0,1-.58,1.4L9.25,21ZM18.45,9,17,7.55Zm-12,3A5.31,5.31,0,0,0,4.9,8.1,5.31,5.31,0,0,0,1,6.5,5.31,5.31,0,0,0,4.9,4.9,5.31,5.31,0,0,0,6.5,1,5.31,5.31,0,0,0,8.1,4.9,5.31,5.31,0,0,0,12,6.5,5.46,5.46,0,0,0,6.5,12Z\"/>\n",
              "  </svg>\n",
              "    </button>\n",
              "    <script>\n",
              "      (() => {\n",
              "      const buttonEl =\n",
              "        document.querySelector('#id_3c5520a7-a95b-4efa-87d1-87352b17fb7c button.colab-df-generate');\n",
              "      buttonEl.style.display =\n",
              "        google.colab.kernel.accessAllowed ? 'block' : 'none';\n",
              "\n",
              "      buttonEl.onclick = () => {\n",
              "        google.colab.notebook.generateWithVariable('data');\n",
              "      }\n",
              "      })();\n",
              "    </script>\n",
              "  </div>\n",
              "\n",
              "    </div>\n",
              "  </div>\n"
            ],
            "application/vnd.google.colaboratory.intrinsic+json": {
              "type": "dataframe",
              "variable_name": "data",
              "summary": "{\n  \"name\": \"data\",\n  \"rows\": 2761,\n  \"fields\": [\n    {\n      \"column\": [\n        \"Date\",\n        \"\"\n      ],\n      \"properties\": {\n        \"dtype\": \"date\",\n        \"min\": \"2012-01-03 00:00:00\",\n        \"max\": \"2022-12-20 00:00:00\",\n        \"num_unique_values\": 2761,\n        \"samples\": [\n          \"2013-06-20 00:00:00\",\n          \"2022-12-19 00:00:00\",\n          \"2017-04-18 00:00:00\"\n        ],\n        \"semantic_type\": \"\",\n        \"description\": \"\"\n      }\n    },\n    {\n      \"column\": [\n        \"Close\",\n        \"GOOG\"\n      ],\n      \"properties\": {\n        \"dtype\": \"number\",\n        \"std\": 35.606442780763274,\n        \"min\": 13.858419418334961,\n        \"max\": 149.99853515625,\n        \"num_unique_values\": 2736,\n        \"samples\": [\n          26.625938415527344,\n          52.412254333496094,\n          21.658599853515625\n        ],\n        \"semantic_type\": \"\",\n        \"description\": \"\"\n      }\n    },\n    {\n      \"column\": [\n        \"High\",\n        \"GOOG\"\n      ],\n      \"properties\": {\n        \"dtype\": \"number\",\n        \"std\": 36.02504090945351,\n        \"min\": 13.994016423120614,\n        \"max\": 151.38297387838952,\n        \"num_unique_values\": 2760,\n        \"samples\": [\n          22.335096482702887,\n          41.254603402709414,\n          69.27189628330244\n        ],\n        \"semantic_type\": \"\",\n        \"description\": \"\"\n      }\n    },\n    {\n      \"column\": [\n        \"Low\",\n        \"GOOG\"\n      ],\n      \"properties\": {\n        \"dtype\": \"number\",\n        \"std\": 35.200122981598675,\n        \"min\": 13.795702442725435,\n        \"max\": 149.18090945658543,\n        \"num_unique_values\": 2761,\n        \"samples\": [\n          21.89657597883387,\n          88.5057985273253,\n          41.439227862055795\n        ],\n        \"semantic_type\": \"\",\n        \"description\": \"\"\n      }\n    },\n    {\n      \"column\": [\n        \"Open\",\n        \"GOOG\"\n      ],\n      \"properties\": {\n        \"dtype\": \"number\",\n        \"std\": 35.60741778432216,\n        \"min\": 13.890397449090743,\n        \"max\": 151.1475776128586,\n        \"num_unique_values\": 2761,\n        \"samples\": [\n          22.16132466502686,\n          90.45157662118169,\n          41.514368636625434\n        ],\n        \"semantic_type\": \"\",\n        \"description\": \"\"\n      }\n    },\n    {\n      \"column\": [\n        \"Volume\",\n        \"GOOG\"\n      ],\n      \"properties\": {\n        \"dtype\": \"number\",\n        \"std\": 36048129,\n        \"min\": 158434,\n        \"max\": 499561487,\n        \"num_unique_values\": 2670,\n        \"samples\": [\n          20908000,\n          68584110,\n          23714000\n        ],\n        \"semantic_type\": \"\",\n        \"description\": \"\"\n      }\n    }\n  ]\n}"
            }
          },
          "metadata": {},
          "execution_count": 4
        }
      ],
      "source": [
        "data"
      ]
    },
    {
      "cell_type": "code",
      "execution_count": 5,
      "id": "449a8be5-bd35-4b7c-a1f1-6ef15859270e",
      "metadata": {
        "id": "449a8be5-bd35-4b7c-a1f1-6ef15859270e"
      },
      "outputs": [],
      "source": [
        "ma_100_days = data.Close.rolling(100).mean()"
      ]
    },
    {
      "cell_type": "code",
      "execution_count": 6,
      "id": "e3c3a60e-2259-454e-bdda-703abdf69c07",
      "metadata": {
        "colab": {
          "base_uri": "https://localhost:8080/",
          "height": 522
        },
        "id": "e3c3a60e-2259-454e-bdda-703abdf69c07",
        "outputId": "c50ea002-eb80-46c8-e55e-a5e58883ef42"
      },
      "outputs": [
        {
          "output_type": "display_data",
          "data": {
            "text/plain": [
              "<Figure size 800x600 with 1 Axes>"
            ],
            "image/png": "[encoded data removed]"
          },
          "metadata": {}
        }
      ],
      "source": [
        "plt.figure(figsize=(8,6))\n",
        "plt.plot(ma_100_days, 'r')\n",
        "plt.plot(data.Close, 'g')\n",
        "plt.show()"
      ]
    },
    {
      "cell_type": "code",
      "execution_count": 7,
      "id": "ef4d7fe9-246b-4958-8d7d-652fd526fb8c",
      "metadata": {
        "id": "ef4d7fe9-246b-4958-8d7d-652fd526fb8c"
      },
      "outputs": [],
      "source": [
        "ma_200_days = data.Close.rolling(200).mean()"
      ]
    },
    {
      "cell_type": "code",
      "execution_count": 8,
      "id": "bf578f60-19a7-4ebc-80b3-0bf94216217c",
      "metadata": {
        "colab": {
          "base_uri": "https://localhost:8080/",
          "height": 522
        },
        "id": "bf578f60-19a7-4ebc-80b3-0bf94216217c",
        "outputId": "405617e1-8a2c-450b-ce46-e2e22373787f"
      },
      "outputs": [
        {
          "output_type": "display_data",
          "data": {
            "text/plain": [
              "<Figure size 800x600 with 1 Axes>"
            ],
            "image/png": "[encoded data removed]"
          },
          "metadata": {}
        }
      ],
      "source": [
        "plt.figure(figsize=(8,6))\n",
        "plt.plot(ma_100_days, 'r')\n",
        "plt.plot(ma_200_days, 'b')\n",
        "plt.plot(data.Close, 'g')\n",
        "plt.show()"
      ]
    },
    {
      "cell_type": "code",
      "execution_count": 9,
      "id": "5f867125-e46f-4e4e-bca0-17f50654907c",
      "metadata": {
        "id": "5f867125-e46f-4e4e-bca0-17f50654907c"
      },
      "outputs": [],
      "source": [
        "data.dropna(inplace=True)"
      ]
    },
    {
      "cell_type": "code",
      "execution_count": 10,
      "id": "436518d8-f7c9-47bd-8a6a-bd81b8eb08cd",
      "metadata": {
        "id": "436518d8-f7c9-47bd-8a6a-bd81b8eb08cd"
      },
      "outputs": [],
      "source": [
        "data_train = pd.DataFrame(data.Close[0: int(len(data)*0.80)])\n",
        "data_test = pd.DataFrame(data.Close[int(len(data)*0.80): len(data)])"
      ]
    },
    {
      "cell_type": "code",
      "execution_count": 11,
      "id": "ff779ad8-131d-4030-bf00-0aaa2a65c052",
      "metadata": {
        "colab": {
          "base_uri": "https://localhost:8080/"
        },
        "id": "ff779ad8-131d-4030-bf00-0aaa2a65c052",
        "outputId": "1599f7a7-f7c5-4027-d46c-1b51f8b7c0ad"
      },
      "outputs": [
        {
          "output_type": "execute_result",
          "data": {
            "text/plain": [
              "2208"
            ]
          },
          "metadata": {},
          "execution_count": 11
        }
      ],
      "source": [
        "data_train.shape[0]"
      ]
    },
    {
      "cell_type": "code",
      "execution_count": 12,
      "id": "e5a8bcf3-9d4f-4caf-b29a-7bd807326891",
      "metadata": {
        "colab": {
          "base_uri": "https://localhost:8080/"
        },
        "id": "e5a8bcf3-9d4f-4caf-b29a-7bd807326891",
        "outputId": "a3b02976-2615-4276-fec7-61211bf6966b"
      },
      "outputs": [
        {
          "output_type": "execute_result",
          "data": {
            "text/plain": [
              "553"
            ]
          },
          "metadata": {},
          "execution_count": 12
        }
      ],
      "source": [
        "data_test.shape[0]"
      ]
    },
    {
      "cell_type": "code",
      "execution_count": 13,
      "id": "fb687907-908d-44d4-835c-fbd28d960506",
      "metadata": {
        "id": "fb687907-908d-44d4-835c-fbd28d960506"
      },
      "outputs": [],
      "source": [
        "#scaling to 0 1\n",
        "from sklearn.preprocessing import MinMaxScaler\n",
        "scaler = MinMaxScaler(feature_range=(0,1))"
      ]
    },
    {
      "cell_type": "code",
      "execution_count": 14,
      "id": "e0c4b069-4d7e-4d36-9624-e9dd768a6858",
      "metadata": {
        "id": "e0c4b069-4d7e-4d36-9624-e9dd768a6858"
      },
      "outputs": [],
      "source": [
        "data_train_scale = scaler.fit_transform(data_train)"
      ]
    },
    {
      "cell_type": "code",
      "execution_count": 15,
      "id": "ee2a83a4-b957-4201-a656-22bcab2d4c4c",
      "metadata": {
        "id": "ee2a83a4-b957-4201-a656-22bcab2d4c4c"
      },
      "outputs": [],
      "source": [
        "#array slicing first 100 days\n",
        "\n",
        "x = []\n",
        "y = []\n",
        "\n",
        "for i in range(100, data_train_scale.shape[0]):\n",
        "    x.append(data_train_scale[i-100:i])\n",
        "    y.append(data_train_scale[i,0])\n",
        ""
      ]
    },
    {
      "cell_type": "code",
      "execution_count": 16,
      "id": "1cf9082c-4f90-4558-911a-28ce11bf59fb",
      "metadata": {
        "id": "1cf9082c-4f90-4558-911a-28ce11bf59fb"
      },
      "outputs": [],
      "source": [
        "x, y = np.array(x) , np.array(y)"
      ]
    },
    {
      "cell_type": "code",
      "execution_count": 17,
      "id": "6f343ca5-3f37-4d7d-ac02-9a07e5d6b0c1",
      "metadata": {
        "id": "6f343ca5-3f37-4d7d-ac02-9a07e5d6b0c1"
      },
      "outputs": [],
      "source": [
        "from keras.layers import Dense, Dropout, LSTM\n",
        "from keras.models import Sequential"
      ]
    },
    {
      "cell_type": "code",
      "execution_count": 18,
      "id": "51367902-5c37-44f5-ae14-014228290e26",
      "metadata": {
        "colab": {
          "base_uri": "https://localhost:8080/"
        },
        "id": "51367902-5c37-44f5-ae14-014228290e26",
        "outputId": "ca817926-8ed6-46e0-dd33-20f16f98b23d"
      },
      "outputs": [
        {
          "output_type": "stream",
          "name": "stderr",
          "text": [
            "/usr/local/lib/python3.11/dist-packages/keras/src/layers/rnn/rnn.py:200: UserWarning: Do not pass an `input_shape`/`input_dim` argument to a layer. When using Sequential models, prefer using an `Input(shape)` object as the first layer in the model instead.\n",
            "  super().__init__(**kwargs)\n"
          ]
        }
      ],
      "source": [
        "model = Sequential()\n",
        "model.add(LSTM(units = 50, activation = 'relu', return_sequences = True,\n",
        "              input_shape = ((x.shape[1],1))))\n",
        "model.add(Dropout(0.2))\n",
        "\n",
        "model.add(LSTM(units = 60, activation = 'relu' , return_sequences = True))\n",
        "model.add(Dropout(0.3))\n",
        "\n",
        "model.add(LSTM(units = 80, activation = 'relu' , return_sequences = True))\n",
        "model.add(Dropout(0.4))\n",
        "\n",
        "model.add(LSTM(units = 120, activation = 'relu'))\n",
        "model.add(Dropout(0.5))\n",
        "\n",
        "model.add(Dense(units = 1))"
      ]
    },
    {
      "cell_type": "code",
      "execution_count": 19,
      "id": "eddf499b-0767-4cdc-a412-44f5b6e17ec0",
      "metadata": {
        "id": "eddf499b-0767-4cdc-a412-44f5b6e17ec0"
      },
      "outputs": [],
      "source": [
        "model.compile(optimizer = 'adam', loss = 'mean_squared_error')"
      ]
    },
    {
      "cell_type": "code",
      "execution_count": 20,
      "id": "a0921ffe-c527-445e-b4f6-eb5edb891f29",
      "metadata": {
        "colab": {
          "base_uri": "https://localhost:8080/"
        },
        "id": "a0921ffe-c527-445e-b4f6-eb5edb891f29",
        "outputId": "6bd0aca6-7d8c-4c05-c0a2-2cf2f0ad2952"
      },
      "outputs": [
        {
          "output_type": "stream",
          "name": "stdout",
          "text": [
            "Epoch 1/50\n",
            "\u001b[1m66/66\u001b[0m \u001b[32m━━━━━━━━━━━━━━━━━━━━\u001b[0m\u001b[37m\u001b[0m \u001b[1m19s\u001b[0m 119ms/step - loss: 0.0683\n",
            "Epoch 2/50\n",
            "\u001b[1m66/66\u001b[0m \u001b[32m━━━━━━━━━━━━━━━━━━━━\u001b[0m\u001b[37m\u001b[0m \u001b[1m9s\u001b[0m 37ms/step - loss: 0.0098\n",
            "Epoch 3/50\n",
            "\u001b[1m66/66\u001b[0m \u001b[32m━━━━━━━━━━━━━━━━━━━━\u001b[0m\u001b[37m\u001b[0m \u001b[1m2s\u001b[0m 35ms/step - loss: 0.0068\n",
            "Epoch 4/50\n",
            "\u001b[1m66/66\u001b[0m \u001b[32m━━━━━━━━━━━━━━━━━━━━\u001b[0m\u001b[37m\u001b[0m \u001b[1m2s\u001b[0m 36ms/step - loss: 0.0046\n",
            "Epoch 5/50\n",
            "\u001b[1m66/66\u001b[0m \u001b[32m━━━━━━━━━━━━━━━━━━━━\u001b[0m\u001b[37m\u001b[0m \u001b[1m3s\u001b[0m 35ms/step - loss: 0.0049\n",
            "Epoch 6/50\n",
            "\u001b[1m66/66\u001b[0m \u001b[32m━━━━━━━━━━━━━━━━━━━━\u001b[0m\u001b[37m\u001b[0m \u001b[1m3s\u001b[0m 35ms/step - loss: 0.0046\n",
            "Epoch 7/50\n",
            "\u001b[1m66/66\u001b[0m \u001b[32m━━━━━━━━━━━━━━━━━━━━\u001b[0m\u001b[37m\u001b[0m \u001b[1m3s\u001b[0m 35ms/step - loss: 0.0043\n",
            "Epoch 8/50\n",
            "\u001b[1m66/66\u001b[0m \u001b[32m━━━━━━━━━━━━━━━━━━━━\u001b[0m\u001b[37m\u001b[0m \u001b[1m3s\u001b[0m 35ms/step - loss: 0.0041\n",
            "Epoch 9/50\n",
            "\u001b[1m66/66\u001b[0m \u001b[32m━━━━━━━━━━━━━━━━━━━━\u001b[0m\u001b[37m\u001b[0m \u001b[1m3s\u001b[0m 36ms/step - loss: 0.0036\n",
            "Epoch 10/50\n",
            "\u001b[1m66/66\u001b[0m \u001b[32m━━━━━━━━━━━━━━━━━━━━\u001b[0m\u001b[37m\u001b[0m \u001b[1m2s\u001b[0m 36ms/step - loss: 0.0037\n",
            "Epoch 11/50\n",
            "\u001b[1m66/66\u001b[0m \u001b[32m━━━━━━━━━━━━━━━━━━━━\u001b[0m\u001b[37m\u001b[0m \u001b[1m3s\u001b[0m 35ms/step - loss: 0.0036\n",
            "Epoch 12/50\n",
            "\u001b[1m66/66\u001b[0m \u001b[32m━━━━━━━━━━━━━━━━━━━━\u001b[0m\u001b[37m\u001b[0m \u001b[1m3s\u001b[0m 38ms/step - loss: 0.0037\n",
            "Epoch 13/50\n",
            "\u001b[1m66/66\u001b[0m \u001b[32m━━━━━━━━━━━━━━━━━━━━\u001b[0m\u001b[37m\u001b[0m \u001b[1m2s\u001b[0m 36ms/step - loss: 0.0037\n",
            "Epoch 14/50\n",
            "\u001b[1m66/66\u001b[0m \u001b[32m━━━━━━━━━━━━━━━━━━━━\u001b[0m\u001b[37m\u001b[0m \u001b[1m3s\u001b[0m 36ms/step - loss: 0.0033\n",
            "Epoch 15/50\n",
            "\u001b[1m66/66\u001b[0m \u001b[32m━━━━━━━━━━━━━━━━━━━━\u001b[0m\u001b[37m\u001b[0m \u001b[1m2s\u001b[0m 35ms/step - loss: 0.0033\n",
            "Epoch 16/50\n",
            "\u001b[1m66/66\u001b[0m \u001b[32m━━━━━━━━━━━━━━━━━━━━\u001b[0m\u001b[37m\u001b[0m \u001b[1m2s\u001b[0m 35ms/step - loss: 0.0032\n",
            "Epoch 17/50\n",
            "\u001b[1m66/66\u001b[0m \u001b[32m━━━━━━━━━━━━━━━━━━━━\u001b[0m\u001b[37m\u001b[0m \u001b[1m3s\u001b[0m 35ms/step - loss: 0.0032\n",
            "Epoch 18/50\n",
            "\u001b[1m66/66\u001b[0m \u001b[32m━━━━━━━━━━━━━━━━━━━━\u001b[0m\u001b[37m\u001b[0m \u001b[1m3s\u001b[0m 36ms/step - loss: 0.0034\n",
            "Epoch 19/50\n",
            "\u001b[1m66/66\u001b[0m \u001b[32m━━━━━━━━━━━━━━━━━━━━\u001b[0m\u001b[37m\u001b[0m \u001b[1m2s\u001b[0m 35ms/step - loss: 0.0034\n",
            "Epoch 20/50\n",
            "\u001b[1m66/66\u001b[0m \u001b[32m━━━━━━━━━━━━━━━━━━━━\u001b[0m\u001b[37m\u001b[0m \u001b[1m2s\u001b[0m 35ms/step - loss: 0.0026\n",
            "Epoch 21/50\n",
            "\u001b[1m66/66\u001b[0m \u001b[32m━━━━━━━━━━━━━━━━━━━━\u001b[0m\u001b[37m\u001b[0m \u001b[1m2s\u001b[0m 35ms/step - loss: 0.0027\n",
            "Epoch 22/50\n",
            "\u001b[1m66/66\u001b[0m \u001b[32m━━━━━━━━━━━━━━━━━━━━\u001b[0m\u001b[37m\u001b[0m \u001b[1m2s\u001b[0m 35ms/step - loss: 0.0031\n",
            "Epoch 23/50\n",
            "\u001b[1m66/66\u001b[0m \u001b[32m━━━━━━━━━━━━━━━━━━━━\u001b[0m\u001b[37m\u001b[0m \u001b[1m3s\u001b[0m 36ms/step - loss: 0.0028\n",
            "Epoch 24/50\n",
            "\u001b[1m66/66\u001b[0m \u001b[32m━━━━━━━━━━━━━━━━━━━━\u001b[0m\u001b[37m\u001b[0m \u001b[1m3s\u001b[0m 35ms/step - loss: 0.0024\n",
            "Epoch 25/50\n",
            "\u001b[1m66/66\u001b[0m \u001b[32m━━━━━━━━━━━━━━━━━━━━\u001b[0m\u001b[37m\u001b[0m \u001b[1m3s\u001b[0m 35ms/step - loss: 0.0025\n",
            "Epoch 26/50\n",
            "\u001b[1m66/66\u001b[0m \u001b[32m━━━━━━━━━━━━━━━━━━━━\u001b[0m\u001b[37m\u001b[0m \u001b[1m3s\u001b[0m 35ms/step - loss: 0.0026\n",
            "Epoch 27/50\n",
            "\u001b[1m66/66\u001b[0m \u001b[32m━━━━━━━━━━━━━━━━━━━━\u001b[0m\u001b[37m\u001b[0m \u001b[1m3s\u001b[0m 35ms/step - loss: 0.0024\n",
            "Epoch 28/50\n",
            "\u001b[1m66/66\u001b[0m \u001b[32m━━━━━━━━━━━━━━━━━━━━\u001b[0m\u001b[37m\u001b[0m \u001b[1m3s\u001b[0m 36ms/step - loss: 0.0025\n",
            "Epoch 29/50\n",
            "\u001b[1m66/66\u001b[0m \u001b[32m━━━━━━━━━━━━━━━━━━━━\u001b[0m\u001b[37m\u001b[0m \u001b[1m2s\u001b[0m 35ms/step - loss: 0.0023\n",
            "Epoch 30/50\n",
            "\u001b[1m66/66\u001b[0m \u001b[32m━━━━━━━━━━━━━━━━━━━━\u001b[0m\u001b[37m\u001b[0m \u001b[1m2s\u001b[0m 35ms/step - loss: 0.0020\n",
            "Epoch 31/50\n",
            "\u001b[1m66/66\u001b[0m \u001b[32m━━━━━━━━━━━━━━━━━━━━\u001b[0m\u001b[37m\u001b[0m \u001b[1m3s\u001b[0m 35ms/step - loss: 0.0021\n",
            "Epoch 32/50\n",
            "\u001b[1m66/66\u001b[0m \u001b[32m━━━━━━━━━━━━━━━━━━━━\u001b[0m\u001b[37m\u001b[0m \u001b[1m3s\u001b[0m 35ms/step - loss: 0.0021\n",
            "Epoch 33/50\n",
            "\u001b[1m66/66\u001b[0m \u001b[32m━━━━━━━━━━━━━━━━━━━━\u001b[0m\u001b[37m\u001b[0m \u001b[1m2s\u001b[0m 36ms/step - loss: 0.0022\n",
            "Epoch 34/50\n",
            "\u001b[1m66/66\u001b[0m \u001b[32m━━━━━━━━━━━━━━━━━━━━\u001b[0m\u001b[37m\u001b[0m \u001b[1m3s\u001b[0m 35ms/step - loss: 0.0019\n",
            "Epoch 35/50\n",
            "\u001b[1m66/66\u001b[0m \u001b[32m━━━━━━━━━━━━━━━━━━━━\u001b[0m\u001b[37m\u001b[0m \u001b[1m3s\u001b[0m 35ms/step - loss: 0.0025\n",
            "Epoch 36/50\n",
            "\u001b[1m66/66\u001b[0m \u001b[32m━━━━━━━━━━━━━━━━━━━━\u001b[0m\u001b[37m\u001b[0m \u001b[1m2s\u001b[0m 35ms/step - loss: 0.0021\n",
            "Epoch 37/50\n",
            "\u001b[1m66/66\u001b[0m \u001b[32m━━━━━━━━━━━━━━━━━━━━\u001b[0m\u001b[37m\u001b[0m \u001b[1m2s\u001b[0m 36ms/step - loss: 0.0021\n",
            "Epoch 38/50\n",
            "\u001b[1m66/66\u001b[0m \u001b[32m━━━━━━━━━━━━━━━━━━━━\u001b[0m\u001b[37m\u001b[0m \u001b[1m2s\u001b[0m 36ms/step - loss: 0.0020\n",
            "Epoch 39/50\n",
            "\u001b[1m66/66\u001b[0m \u001b[32m━━━━━━━━━━━━━━━━━━━━\u001b[0m\u001b[37m\u001b[0m \u001b[1m3s\u001b[0m 35ms/step - loss: 0.0019\n",
            "Epoch 40/50\n",
            "\u001b[1m66/66\u001b[0m \u001b[32m━━━━━━━━━━━━━━━━━━━━\u001b[0m\u001b[37m\u001b[0m \u001b[1m2s\u001b[0m 35ms/step - loss: 0.0021\n",
            "Epoch 41/50\n",
            "\u001b[1m66/66\u001b[0m \u001b[32m━━━━━━━━━━━━━━━━━━━━\u001b[0m\u001b[37m\u001b[0m \u001b[1m3s\u001b[0m 35ms/step - loss: 0.0019\n",
            "Epoch 42/50\n",
            "\u001b[1m66/66\u001b[0m \u001b[32m━━━━━━━━━━━━━━━━━━━━\u001b[0m\u001b[37m\u001b[0m \u001b[1m2s\u001b[0m 36ms/step - loss: 0.0023\n",
            "Epoch 43/50\n",
            "\u001b[1m66/66\u001b[0m \u001b[32m━━━━━━━━━━━━━━━━━━━━\u001b[0m\u001b[37m\u001b[0m \u001b[1m3s\u001b[0m 36ms/step - loss: 0.0020\n",
            "Epoch 44/50\n",
            "\u001b[1m66/66\u001b[0m \u001b[32m━━━━━━━━━━━━━━━━━━━━\u001b[0m\u001b[37m\u001b[0m \u001b[1m3s\u001b[0m 35ms/step - loss: 0.0018\n",
            "Epoch 45/50\n",
            "\u001b[1m66/66\u001b[0m \u001b[32m━━━━━━━━━━━━━━━━━━━━\u001b[0m\u001b[37m\u001b[0m \u001b[1m3s\u001b[0m 35ms/step - loss: 0.0024\n",
            "Epoch 46/50\n",
            "\u001b[1m66/66\u001b[0m \u001b[32m━━━━━━━━━━━━━━━━━━━━\u001b[0m\u001b[37m\u001b[0m \u001b[1m3s\u001b[0m 35ms/step - loss: 0.0022\n",
            "Epoch 47/50\n",
            "\u001b[1m66/66\u001b[0m \u001b[32m━━━━━━━━━━━━━━━━━━━━\u001b[0m\u001b[37m\u001b[0m \u001b[1m3s\u001b[0m 36ms/step - loss: 0.0020\n",
            "Epoch 48/50\n",
            "\u001b[1m66/66\u001b[0m \u001b[32m━━━━━━━━━━━━━━━━━━━━\u001b[0m\u001b[37m\u001b[0m \u001b[1m2s\u001b[0m 35ms/step - loss: 0.0020\n",
            "Epoch 49/50\n",
            "\u001b[1m66/66\u001b[0m \u001b[32m━━━━━━━━━━━━━━━━━━━━\u001b[0m\u001b[37m\u001b[0m \u001b[1m2s\u001b[0m 35ms/step - loss: 0.0018\n",
            "Epoch 50/50\n",
            "\u001b[1m66/66\u001b[0m \u001b[32m━━━━━━━━━━━━━━━━━━━━\u001b[0m\u001b[37m\u001b[0m \u001b[1m3s\u001b[0m 35ms/step - loss: 0.0018\n"
          ]
        },
        {
          "output_type": "execute_result",
          "data": {
            "text/plain": [
              "<keras.src.callbacks.history.History at 0x793ab86e14d0>"
            ]
          },
          "metadata": {},
          "execution_count": 20
        }
      ],
      "source": [
        "model.fit(x,y,epochs = 50,  batch_size = 32, verbose = 1)"
      ]
    },
    {
      "cell_type": "code",
      "execution_count": 21,
      "id": "4a2a3fd4-b453-4961-a14f-bc60a53957e2",
      "metadata": {
        "colab": {
          "base_uri": "https://localhost:8080/",
          "height": 433
        },
        "id": "4a2a3fd4-b453-4961-a14f-bc60a53957e2",
        "outputId": "e7bc0dea-eaef-4115-f46b-04a190aeb704"
      },
      "outputs": [
        {
          "output_type": "display_data",
          "data": {
            "text/plain": [
              "\u001b[1mModel: \"sequential\"\u001b[0m\n"
            ],
            "text/html": [
              "<pre style=\"white-space:pre;overflow-x:auto;line-height:normal;font-family:Menlo,'DejaVu Sans Mono',consolas,'Courier New',monospace\"><span style=\"font-weight: bold\">Model: \"sequential\"</span>\n",
              "</pre>\n"
            ]
          },
          "metadata": {}
        },
        {
          "output_type": "display_data",
          "data": {
            "text/plain": [
              "┏━━━━━━━━━━━━━━━━━━━━━━━━━━━━━━━━━━━━━━┳━━━━━━━━━━━━━━━━━━━━━━━━━━━━━┳━━━━━━━━━━━━━━━━━┓\n",
              "┃\u001b[1m \u001b[0m\u001b[1mLayer (type)                        \u001b[0m\u001b[1m \u001b[0m┃\u001b[1m \u001b[0m\u001b[1mOutput Shape               \u001b[0m\u001b[1m \u001b[0m┃\u001b[1m \u001b[0m\u001b[1m        Param #\u001b[0m\u001b[1m \u001b[0m┃\n",
              "┡━━━━━━━━━━━━━━━━━━━━━━━━━━━━━━━━━━━━━━╇━━━━━━━━━━━━━━━━━━━━━━━━━━━━━╇━━━━━━━━━━━━━━━━━┩\n",
              "│ lstm (\u001b[38;5;33mLSTM\u001b[0m)                          │ (\u001b[38;5;45mNone\u001b[0m, \u001b[38;5;34m100\u001b[0m, \u001b[38;5;34m50\u001b[0m)             │          \u001b[38;5;34m10,400\u001b[0m │\n",
              "├──────────────────────────────────────┼─────────────────────────────┼─────────────────┤\n",
              "│ dropout (\u001b[38;5;33mDropout\u001b[0m)                    │ (\u001b[38;5;45mNone\u001b[0m, \u001b[38;5;34m100\u001b[0m, \u001b[38;5;34m50\u001b[0m)             │               \u001b[38;5;34m0\u001b[0m │\n",
              "├──────────────────────────────────────┼─────────────────────────────┼─────────────────┤\n",
              "│ lstm_1 (\u001b[38;5;33mLSTM\u001b[0m)                        │ (\u001b[38;5;45mNone\u001b[0m, \u001b[38;5;34m100\u001b[0m, \u001b[38;5;34m60\u001b[0m)             │          \u001b[38;5;34m26,640\u001b[0m │\n",
              "├──────────────────────────────────────┼─────────────────────────────┼─────────────────┤\n",
              "│ dropout_1 (\u001b[38;5;33mDropout\u001b[0m)                  │ (\u001b[38;5;45mNone\u001b[0m, \u001b[38;5;34m100\u001b[0m, \u001b[38;5;34m60\u001b[0m)             │               \u001b[38;5;34m0\u001b[0m │\n",
              "├──────────────────────────────────────┼─────────────────────────────┼─────────────────┤\n",
              "│ lstm_2 (\u001b[38;5;33mLSTM\u001b[0m)                        │ (\u001b[38;5;45mNone\u001b[0m, \u001b[38;5;34m100\u001b[0m, \u001b[38;5;34m80\u001b[0m)             │          \u001b[38;5;34m45,120\u001b[0m │\n",
              "├──────────────────────────────────────┼─────────────────────────────┼─────────────────┤\n",
              "│ dropout_2 (\u001b[38;5;33mDropout\u001b[0m)                  │ (\u001b[38;5;45mNone\u001b[0m, \u001b[38;5;34m100\u001b[0m, \u001b[38;5;34m80\u001b[0m)             │               \u001b[38;5;34m0\u001b[0m │\n",
              "├──────────────────────────────────────┼─────────────────────────────┼─────────────────┤\n",
              "│ lstm_3 (\u001b[38;5;33mLSTM\u001b[0m)                        │ (\u001b[38;5;45mNone\u001b[0m, \u001b[38;5;34m120\u001b[0m)                 │          \u001b[38;5;34m96,480\u001b[0m │\n",
              "├──────────────────────────────────────┼─────────────────────────────┼─────────────────┤\n",
              "│ dropout_3 (\u001b[38;5;33mDropout\u001b[0m)                  │ (\u001b[38;5;45mNone\u001b[0m, \u001b[38;5;34m120\u001b[0m)                 │               \u001b[38;5;34m0\u001b[0m │\n",
              "├──────────────────────────────────────┼─────────────────────────────┼─────────────────┤\n",
              "│ dense (\u001b[38;5;33mDense\u001b[0m)                        │ (\u001b[38;5;45mNone\u001b[0m, \u001b[38;5;34m1\u001b[0m)                   │             \u001b[38;5;34m121\u001b[0m │\n",
              "└──────────────────────────────────────┴─────────────────────────────┴─────────────────┘\n"
            ],
            "text/html": [
              "<pre style=\"white-space:pre;overflow-x:auto;line-height:normal;font-family:Menlo,'DejaVu Sans Mono',consolas,'Courier New',monospace\">┏━━━━━━━━━━━━━━━━━━━━━━━━━━━━━━━━━━━━━━┳━━━━━━━━━━━━━━━━━━━━━━━━━━━━━┳━━━━━━━━━━━━━━━━━┓\n",
              "┃<span style=\"font-weight: bold\"> Layer (type)                         </span>┃<span style=\"font-weight: bold\"> Output Shape                </span>┃<span style=\"font-weight: bold\">         Param # </span>┃\n",
              "┡━━━━━━━━━━━━━━━━━━━━━━━━━━━━━━━━━━━━━━╇━━━━━━━━━━━━━━━━━━━━━━━━━━━━━╇━━━━━━━━━━━━━━━━━┩\n",
              "│ lstm (<span style=\"color: #0087ff; text-decoration-color: #0087ff\">LSTM</span>)                          │ (<span style=\"color: #00d7ff; text-decoration-color: #00d7ff\">None</span>, <span style=\"color: #00af00; text-decoration-color: #00af00\">100</span>, <span style=\"color: #00af00; text-decoration-color: #00af00\">50</span>)             │          <span style=\"color: #00af00; text-decoration-color: #00af00\">10,400</span> │\n",
              "├──────────────────────────────────────┼─────────────────────────────┼─────────────────┤\n",
              "│ dropout (<span style=\"color: #0087ff; text-decoration-color: #0087ff\">Dropout</span>)                    │ (<span style=\"color: #00d7ff; text-decoration-color: #00d7ff\">None</span>, <span style=\"color: #00af00; text-decoration-color: #00af00\">100</span>, <span style=\"color: #00af00; text-decoration-color: #00af00\">50</span>)             │               <span style=\"color: #00af00; text-decoration-color: #00af00\">0</span> │\n",
              "├──────────────────────────────────────┼─────────────────────────────┼─────────────────┤\n",
              "│ lstm_1 (<span style=\"color: #0087ff; text-decoration-color: #0087ff\">LSTM</span>)                        │ (<span style=\"color: #00d7ff; text-decoration-color: #00d7ff\">None</span>, <span style=\"color: #00af00; text-decoration-color: #00af00\">100</span>, <span style=\"color: #00af00; text-decoration-color: #00af00\">60</span>)             │          <span style=\"color: #00af00; text-decoration-color: #00af00\">26,640</span> │\n",
              "├──────────────────────────────────────┼─────────────────────────────┼─────────────────┤\n",
              "│ dropout_1 (<span style=\"color: #0087ff; text-decoration-color: #0087ff\">Dropout</span>)                  │ (<span style=\"color: #00d7ff; text-decoration-color: #00d7ff\">None</span>, <span style=\"color: #00af00; text-decoration-color: #00af00\">100</span>, <span style=\"color: #00af00; text-decoration-color: #00af00\">60</span>)             │               <span style=\"color: #00af00; text-decoration-color: #00af00\">0</span> │\n",
              "├──────────────────────────────────────┼─────────────────────────────┼─────────────────┤\n",
              "│ lstm_2 (<span style=\"color: #0087ff; text-decoration-color: #0087ff\">LSTM</span>)                        │ (<span style=\"color: #00d7ff; text-decoration-color: #00d7ff\">None</span>, <span style=\"color: #00af00; text-decoration-color: #00af00\">100</span>, <span style=\"color: #00af00; text-decoration-color: #00af00\">80</span>)             │          <span style=\"color: #00af00; text-decoration-color: #00af00\">45,120</span> │\n",
              "├──────────────────────────────────────┼─────────────────────────────┼─────────────────┤\n",
              "│ dropout_2 (<span style=\"color: #0087ff; text-decoration-color: #0087ff\">Dropout</span>)                  │ (<span style=\"color: #00d7ff; text-decoration-color: #00d7ff\">None</span>, <span style=\"color: #00af00; text-decoration-color: #00af00\">100</span>, <span style=\"color: #00af00; text-decoration-color: #00af00\">80</span>)             │               <span style=\"color: #00af00; text-decoration-color: #00af00\">0</span> │\n",
              "├──────────────────────────────────────┼─────────────────────────────┼─────────────────┤\n",
              "│ lstm_3 (<span style=\"color: #0087ff; text-decoration-color: #0087ff\">LSTM</span>)                        │ (<span style=\"color: #00d7ff; text-decoration-color: #00d7ff\">None</span>, <span style=\"color: #00af00; text-decoration-color: #00af00\">120</span>)                 │          <span style=\"color: #00af00; text-decoration-color: #00af00\">96,480</span> │\n",
              "├──────────────────────────────────────┼─────────────────────────────┼─────────────────┤\n",
              "│ dropout_3 (<span style=\"color: #0087ff; text-decoration-color: #0087ff\">Dropout</span>)                  │ (<span style=\"color: #00d7ff; text-decoration-color: #00d7ff\">None</span>, <span style=\"color: #00af00; text-decoration-color: #00af00\">120</span>)                 │               <span style=\"color: #00af00; text-decoration-color: #00af00\">0</span> │\n",
              "├──────────────────────────────────────┼─────────────────────────────┼─────────────────┤\n",
              "│ dense (<span style=\"color: #0087ff; text-decoration-color: #0087ff\">Dense</span>)                        │ (<span style=\"color: #00d7ff; text-decoration-color: #00d7ff\">None</span>, <span style=\"color: #00af00; text-decoration-color: #00af00\">1</span>)                   │             <span style=\"color: #00af00; text-decoration-color: #00af00\">121</span> │\n",
              "└──────────────────────────────────────┴─────────────────────────────┴─────────────────┘\n",
              "</pre>\n"
            ]
          },
          "metadata": {}
        },
        {
          "output_type": "display_data",
          "data": {
            "text/plain": [
              "\u001b[1m Total params: \u001b[0m\u001b[38;5;34m536,285\u001b[0m (2.05 MB)\n"
            ],
            "text/html": [
              "<pre style=\"white-space:pre;overflow-x:auto;line-height:normal;font-family:Menlo,'DejaVu Sans Mono',consolas,'Courier New',monospace\"><span style=\"font-weight: bold\"> Total params: </span><span style=\"color: #00af00; text-decoration-color: #00af00\">536,285</span> (2.05 MB)\n",
              "</pre>\n"
            ]
          },
          "metadata": {}
        },
        {
          "output_type": "display_data",
          "data": {
            "text/plain": [
              "\u001b[1m Trainable params: \u001b[0m\u001b[38;5;34m178,761\u001b[0m (698.29 KB)\n"
            ],
            "text/html": [
              "<pre style=\"white-space:pre;overflow-x:auto;line-height:normal;font-family:Menlo,'DejaVu Sans Mono',consolas,'Courier New',monospace\"><span style=\"font-weight: bold\"> Trainable params: </span><span style=\"color: #00af00; text-decoration-color: #00af00\">178,761</span> (698.29 KB)\n",
              "</pre>\n"
            ]
          },
          "metadata": {}
        },
        {
          "output_type": "display_data",
          "data": {
            "text/plain": [
              "\u001b[1m Non-trainable params: \u001b[0m\u001b[38;5;34m0\u001b[0m (0.00 B)\n"
            ],
            "text/html": [
              "<pre style=\"white-space:pre;overflow-x:auto;line-height:normal;font-family:Menlo,'DejaVu Sans Mono',consolas,'Courier New',monospace\"><span style=\"font-weight: bold\"> Non-trainable params: </span><span style=\"color: #00af00; text-decoration-color: #00af00\">0</span> (0.00 B)\n",
              "</pre>\n"
            ]
          },
          "metadata": {}
        },
        {
          "output_type": "display_data",
          "data": {
            "text/plain": [
              "\u001b[1m Optimizer params: \u001b[0m\u001b[38;5;34m357,524\u001b[0m (1.36 MB)\n"
            ],
            "text/html": [
              "<pre style=\"white-space:pre;overflow-x:auto;line-height:normal;font-family:Menlo,'DejaVu Sans Mono',consolas,'Courier New',monospace\"><span style=\"font-weight: bold\"> Optimizer params: </span><span style=\"color: #00af00; text-decoration-color: #00af00\">357,524</span> (1.36 MB)\n",
              "</pre>\n"
            ]
          },
          "metadata": {}
        }
      ],
      "source": [
        "model.summary()"
      ]
    },
    {
      "cell_type": "code",
      "execution_count": 22,
      "id": "26778da9-31c5-4210-9c1a-2c7aa9508654",
      "metadata": {
        "id": "26778da9-31c5-4210-9c1a-2c7aa9508654"
      },
      "outputs": [],
      "source": [
        "past_100_days = data_train.tail(100)"
      ]
    },
    {
      "cell_type": "code",
      "execution_count": 23,
      "id": "6db424d8-c6b6-4e2e-b671-a0994e8b18cd",
      "metadata": {
        "id": "6db424d8-c6b6-4e2e-b671-a0994e8b18cd"
      },
      "outputs": [],
      "source": [
        "data_test = pd.concat([past_100_days, data_test], ignore_index = True)"
      ]
    },
    {
      "cell_type": "code",
      "execution_count": 24,
      "id": "17851e8d-b27d-4e2a-b68c-47e1c5cf7701",
      "metadata": {
        "id": "17851e8d-b27d-4e2a-b68c-47e1c5cf7701"
      },
      "outputs": [],
      "source": [
        "data_test_scale  = scaler.fit_transform(data_test)"
      ]
    },
    {
      "cell_type": "code",
      "execution_count": 25,
      "id": "1788eaaf-3837-471b-800a-07cfbc866180",
      "metadata": {
        "id": "1788eaaf-3837-471b-800a-07cfbc866180"
      },
      "outputs": [],
      "source": [
        "#array slicing first 100 days\n",
        "\n",
        "x = []\n",
        "y = []\n",
        "\n",
        "for i in range(100, data_test_scale.shape[0]):\n",
        "    x.append(data_test_scale[i-100:i])\n",
        "    y.append(data_test_scale[i,0])\n",
        "\n",
        "x, y = np.array(x), np.array(y)"
      ]
    },
    {
      "cell_type": "code",
      "execution_count": 26,
      "id": "ff1ec404-bc3a-4bef-a5a8-60e18c5b7320",
      "metadata": {
        "colab": {
          "base_uri": "https://localhost:8080/"
        },
        "id": "ff1ec404-bc3a-4bef-a5a8-60e18c5b7320",
        "outputId": "78387692-974b-40fc-e330-a0309a475f51"
      },
      "outputs": [
        {
          "output_type": "stream",
          "name": "stdout",
          "text": [
            "\u001b[1m18/18\u001b[0m \u001b[32m━━━━━━━━━━━━━━━━━━━━\u001b[0m\u001b[37m\u001b[0m \u001b[1m3s\u001b[0m 99ms/step\n"
          ]
        }
      ],
      "source": [
        "y_predict = model.predict(x)"
      ]
    },
    {
      "cell_type": "code",
      "execution_count": 27,
      "id": "c57d82e0-4e2a-4206-882f-46140d1edc39",
      "metadata": {
        "colab": {
          "base_uri": "https://localhost:8080/"
        },
        "id": "c57d82e0-4e2a-4206-882f-46140d1edc39",
        "outputId": "8ace2d48-a967-40fc-93e0-7e85cda70869"
      },
      "outputs": [
        {
          "output_type": "execute_result",
          "data": {
            "text/plain": [
              "array([[0.136451  ],\n",
              "       [0.13480657],\n",
              "       [0.1337216 ],\n",
              "       [0.13323513],\n",
              "       [0.13332982],\n",
              "       [0.13396877],\n",
              "       [0.13504988],\n",
              "       [0.13647588],\n",
              "       [0.13820946],\n",
              "       [0.14021479],\n",
              "       [0.14248326],\n",
              "       [0.14500189],\n",
              "       [0.14773619],\n",
              "       [0.1505421 ],\n",
              "       [0.15329745],\n",
              "       [0.15597501],\n",
              "       [0.15860395],\n",
              "       [0.16125058],\n",
              "       [0.16412196],\n",
              "       [0.16745476],\n",
              "       [0.17138922],\n",
              "       [0.17587528],\n",
              "       [0.18076348],\n",
              "       [0.18591462],\n",
              "       [0.19126466],\n",
              "       [0.19673957],\n",
              "       [0.20230451],\n",
              "       [0.20789404],\n",
              "       [0.21341881],\n",
              "       [0.2187857 ],\n",
              "       [0.22388458],\n",
              "       [0.22860816],\n",
              "       [0.23291631],\n",
              "       [0.23681629],\n",
              "       [0.2403861 ],\n",
              "       [0.2436581 ],\n",
              "       [0.24669306],\n",
              "       [0.2495983 ],\n",
              "       [0.25245583],\n",
              "       [0.25532413],\n",
              "       [0.25822085],\n",
              "       [0.2611488 ],\n",
              "       [0.26411763],\n",
              "       [0.26703396],\n",
              "       [0.2698426 ],\n",
              "       [0.2724389 ],\n",
              "       [0.27463138],\n",
              "       [0.27639338],\n",
              "       [0.2776602 ],\n",
              "       [0.27833167],\n",
              "       [0.27839684],\n",
              "       [0.27783957],\n",
              "       [0.2766848 ],\n",
              "       [0.2750241 ],\n",
              "       [0.27310547],\n",
              "       [0.27111232],\n",
              "       [0.26913142],\n",
              "       [0.26725167],\n",
              "       [0.26547122],\n",
              "       [0.26379192],\n",
              "       [0.26221073],\n",
              "       [0.26082826],\n",
              "       [0.25975627],\n",
              "       [0.2590358 ],\n",
              "       [0.2586319 ],\n",
              "       [0.25848743],\n",
              "       [0.25851524],\n",
              "       [0.25862098],\n",
              "       [0.2588023 ],\n",
              "       [0.25924897],\n",
              "       [0.26014242],\n",
              "       [0.26157266],\n",
              "       [0.26354992],\n",
              "       [0.26614213],\n",
              "       [0.26913628],\n",
              "       [0.2724454 ],\n",
              "       [0.27614784],\n",
              "       [0.28011632],\n",
              "       [0.28430477],\n",
              "       [0.28866786],\n",
              "       [0.29327595],\n",
              "       [0.2981343 ],\n",
              "       [0.30342987],\n",
              "       [0.3094752 ],\n",
              "       [0.31715915],\n",
              "       [0.32642937],\n",
              "       [0.3369689 ],\n",
              "       [0.3485102 ],\n",
              "       [0.3605268 ],\n",
              "       [0.372509  ],\n",
              "       [0.38378745],\n",
              "       [0.39385447],\n",
              "       [0.40243432],\n",
              "       [0.4095321 ],\n",
              "       [0.4151639 ],\n",
              "       [0.41933498],\n",
              "       [0.42225903],\n",
              "       [0.42420268],\n",
              "       [0.42532837],\n",
              "       [0.4258158 ],\n",
              "       [0.42593753],\n",
              "       [0.42578697],\n",
              "       [0.42545003],\n",
              "       [0.4250003 ],\n",
              "       [0.42461315],\n",
              "       [0.42434224],\n",
              "       [0.42419314],\n",
              "       [0.42420548],\n",
              "       [0.4244094 ],\n",
              "       [0.42468178],\n",
              "       [0.4249058 ],\n",
              "       [0.42499262],\n",
              "       [0.4249213 ],\n",
              "       [0.4246921 ],\n",
              "       [0.42432594],\n",
              "       [0.42383868],\n",
              "       [0.4232815 ],\n",
              "       [0.42270994],\n",
              "       [0.422193  ],\n",
              "       [0.4219343 ],\n",
              "       [0.42238194],\n",
              "       [0.42393288],\n",
              "       [0.4272667 ],\n",
              "       [0.43297398],\n",
              "       [0.44118977],\n",
              "       [0.45126736],\n",
              "       [0.46228835],\n",
              "       [0.4731833 ],\n",
              "       [0.48352182],\n",
              "       [0.49309307],\n",
              "       [0.50179434],\n",
              "       [0.5094268 ],\n",
              "       [0.51581675],\n",
              "       [0.52056915],\n",
              "       [0.5240449 ],\n",
              "       [0.5268303 ],\n",
              "       [0.5291767 ],\n",
              "       [0.53194916],\n",
              "       [0.5362615 ],\n",
              "       [0.54261804],\n",
              "       [0.5506719 ],\n",
              "       [0.5588945 ],\n",
              "       [0.5659907 ],\n",
              "       [0.5715382 ],\n",
              "       [0.5757755 ],\n",
              "       [0.5782788 ],\n",
              "       [0.57839763],\n",
              "       [0.57546127],\n",
              "       [0.5700235 ],\n",
              "       [0.563187  ],\n",
              "       [0.55598295],\n",
              "       [0.54917526],\n",
              "       [0.5433438 ],\n",
              "       [0.53912723],\n",
              "       [0.5369245 ],\n",
              "       [0.5374595 ],\n",
              "       [0.54102623],\n",
              "       [0.5478605 ],\n",
              "       [0.55703044],\n",
              "       [0.56731224],\n",
              "       [0.5777773 ],\n",
              "       [0.58749866],\n",
              "       [0.5954883 ],\n",
              "       [0.60189664],\n",
              "       [0.6072637 ],\n",
              "       [0.61224055],\n",
              "       [0.6172855 ],\n",
              "       [0.62297606],\n",
              "       [0.62929124],\n",
              "       [0.6360614 ],\n",
              "       [0.6427793 ],\n",
              "       [0.64873314],\n",
              "       [0.6536037 ],\n",
              "       [0.6569369 ],\n",
              "       [0.6588557 ],\n",
              "       [0.6598327 ],\n",
              "       [0.66009974],\n",
              "       [0.66013193],\n",
              "       [0.66016686],\n",
              "       [0.66024196],\n",
              "       [0.6600419 ],\n",
              "       [0.6591071 ],\n",
              "       [0.65764403],\n",
              "       [0.6568074 ],\n",
              "       [0.6577845 ],\n",
              "       [0.6611831 ],\n",
              "       [0.66654015],\n",
              "       [0.6731142 ],\n",
              "       [0.6803942 ],\n",
              "       [0.68794   ],\n",
              "       [0.69561493],\n",
              "       [0.70277435],\n",
              "       [0.7089888 ],\n",
              "       [0.71285963],\n",
              "       [0.71433747],\n",
              "       [0.71440816],\n",
              "       [0.71426946],\n",
              "       [0.71633226],\n",
              "       [0.72250426],\n",
              "       [0.7320476 ],\n",
              "       [0.7429317 ],\n",
              "       [0.75317156],\n",
              "       [0.760805  ],\n",
              "       [0.76513755],\n",
              "       [0.7663178 ],\n",
              "       [0.76482844],\n",
              "       [0.7617899 ],\n",
              "       [0.7582761 ],\n",
              "       [0.755496  ],\n",
              "       [0.7542087 ],\n",
              "       [0.75446916],\n",
              "       [0.7562814 ],\n",
              "       [0.759351  ],\n",
              "       [0.76339614],\n",
              "       [0.76724887],\n",
              "       [0.7696836 ],\n",
              "       [0.7702439 ],\n",
              "       [0.76967   ],\n",
              "       [0.76985836],\n",
              "       [0.7725549 ],\n",
              "       [0.77859795],\n",
              "       [0.7872133 ],\n",
              "       [0.7980839 ],\n",
              "       [0.81064093],\n",
              "       [0.8235296 ],\n",
              "       [0.8353025 ],\n",
              "       [0.8438642 ],\n",
              "       [0.84824467],\n",
              "       [0.84874487],\n",
              "       [0.84590435],\n",
              "       [0.84060097],\n",
              "       [0.8325422 ],\n",
              "       [0.82290757],\n",
              "       [0.8131176 ],\n",
              "       [0.80530715],\n",
              "       [0.80056417],\n",
              "       [0.7979281 ],\n",
              "       [0.7954006 ],\n",
              "       [0.79215956],\n",
              "       [0.78876066],\n",
              "       [0.78635156],\n",
              "       [0.78611135],\n",
              "       [0.78800213],\n",
              "       [0.7890955 ],\n",
              "       [0.78679633],\n",
              "       [0.7798698 ],\n",
              "       [0.77000844],\n",
              "       [0.75832695],\n",
              "       [0.7470691 ],\n",
              "       [0.7386031 ],\n",
              "       [0.734982  ],\n",
              "       [0.7372881 ],\n",
              "       [0.74480677],\n",
              "       [0.75471586],\n",
              "       [0.7649044 ],\n",
              "       [0.7754166 ],\n",
              "       [0.7861986 ],\n",
              "       [0.7973032 ],\n",
              "       [0.8085544 ],\n",
              "       [0.8184111 ],\n",
              "       [0.82566655],\n",
              "       [0.8276547 ],\n",
              "       [0.8236363 ],\n",
              "       [0.8147726 ],\n",
              "       [0.8057587 ],\n",
              "       [0.80011916],\n",
              "       [0.8005127 ],\n",
              "       [0.80538094],\n",
              "       [0.81340384],\n",
              "       [0.8233743 ],\n",
              "       [0.8348787 ],\n",
              "       [0.8472173 ],\n",
              "       [0.8591504 ],\n",
              "       [0.86930025],\n",
              "       [0.8750917 ],\n",
              "       [0.8754432 ],\n",
              "       [0.8722044 ],\n",
              "       [0.8671074 ],\n",
              "       [0.8614464 ],\n",
              "       [0.8561964 ],\n",
              "       [0.85285246],\n",
              "       [0.8518175 ],\n",
              "       [0.8514886 ],\n",
              "       [0.8505449 ],\n",
              "       [0.84844935],\n",
              "       [0.84352314],\n",
              "       [0.8370435 ],\n",
              "       [0.8289571 ],\n",
              "       [0.8194828 ],\n",
              "       [0.8103429 ],\n",
              "       [0.8026222 ],\n",
              "       [0.7976681 ],\n",
              "       [0.79798055],\n",
              "       [0.8049735 ],\n",
              "       [0.81791854],\n",
              "       [0.834815  ],\n",
              "       [0.85158527],\n",
              "       [0.86403847],\n",
              "       [0.87139153],\n",
              "       [0.87251794],\n",
              "       [0.8669398 ],\n",
              "       [0.8554244 ],\n",
              "       [0.84060645],\n",
              "       [0.82635665],\n",
              "       [0.81579053],\n",
              "       [0.8111608 ],\n",
              "       [0.8122655 ],\n",
              "       [0.81788194],\n",
              "       [0.82593024],\n",
              "       [0.8337413 ],\n",
              "       [0.83966947],\n",
              "       [0.8426398 ],\n",
              "       [0.8394041 ],\n",
              "       [0.82929957],\n",
              "       [0.8135109 ],\n",
              "       [0.7949598 ],\n",
              "       [0.7768644 ],\n",
              "       [0.7628881 ],\n",
              "       [0.75438136],\n",
              "       [0.7517519 ],\n",
              "       [0.7529197 ],\n",
              "       [0.75554156],\n",
              "       [0.7570566 ],\n",
              "       [0.7547821 ],\n",
              "       [0.7480897 ],\n",
              "       [0.73674524],\n",
              "       [0.7226329 ],\n",
              "       [0.70763135],\n",
              "       [0.6943896 ],\n",
              "       [0.68601614],\n",
              "       [0.68490386],\n",
              "       [0.694316  ],\n",
              "       [0.71367073],\n",
              "       [0.74001515],\n",
              "       [0.7671757 ],\n",
              "       [0.79017437],\n",
              "       [0.8074142 ],\n",
              "       [0.8173728 ],\n",
              "       [0.818017  ],\n",
              "       [0.81017387],\n",
              "       [0.7963984 ],\n",
              "       [0.7799656 ],\n",
              "       [0.7620777 ],\n",
              "       [0.74353695],\n",
              "       [0.7249869 ],\n",
              "       [0.7068731 ],\n",
              "       [0.6909565 ],\n",
              "       [0.67948747],\n",
              "       [0.67456996],\n",
              "       [0.67663264],\n",
              "       [0.6849563 ],\n",
              "       [0.6976323 ],\n",
              "       [0.71138525],\n",
              "       [0.7212035 ],\n",
              "       [0.7247479 ],\n",
              "       [0.72431207],\n",
              "       [0.7219995 ],\n",
              "       [0.7185484 ],\n",
              "       [0.7130098 ],\n",
              "       [0.7061082 ],\n",
              "       [0.70029414],\n",
              "       [0.6977062 ],\n",
              "       [0.6999819 ],\n",
              "       [0.70739365],\n",
              "       [0.7203238 ],\n",
              "       [0.737057  ],\n",
              "       [0.7562902 ],\n",
              "       [0.7761821 ],\n",
              "       [0.79483044],\n",
              "       [0.8111019 ],\n",
              "       [0.82363844],\n",
              "       [0.83015037],\n",
              "       [0.8303517 ],\n",
              "       [0.8264464 ],\n",
              "       [0.8194004 ],\n",
              "       [0.80870926],\n",
              "       [0.79460466],\n",
              "       [0.77759516],\n",
              "       [0.7581514 ],\n",
              "       [0.73699987],\n",
              "       [0.715788  ],\n",
              "       [0.695549  ],\n",
              "       [0.677413  ],\n",
              "       [0.6628524 ],\n",
              "       [0.65278196],\n",
              "       [0.64661133],\n",
              "       [0.6418574 ],\n",
              "       [0.63764924],\n",
              "       [0.6328063 ],\n",
              "       [0.6259023 ],\n",
              "       [0.6174239 ],\n",
              "       [0.60758007],\n",
              "       [0.5971557 ],\n",
              "       [0.58707196],\n",
              "       [0.57880545],\n",
              "       [0.57257414],\n",
              "       [0.5678754 ],\n",
              "       [0.5635624 ],\n",
              "       [0.5592353 ],\n",
              "       [0.5547314 ],\n",
              "       [0.5499971 ],\n",
              "       [0.5456063 ],\n",
              "       [0.54185104],\n",
              "       [0.5391688 ],\n",
              "       [0.53707254],\n",
              "       [0.5347948 ],\n",
              "       [0.5317771 ],\n",
              "       [0.5281106 ],\n",
              "       [0.5235828 ],\n",
              "       [0.51823676],\n",
              "       [0.51238793],\n",
              "       [0.506615  ],\n",
              "       [0.50161517],\n",
              "       [0.49802735],\n",
              "       [0.49676073],\n",
              "       [0.4979993 ],\n",
              "       [0.50186384],\n",
              "       [0.50813496],\n",
              "       [0.5162648 ],\n",
              "       [0.5247628 ],\n",
              "       [0.531497  ],\n",
              "       [0.53445673],\n",
              "       [0.53375345],\n",
              "       [0.53032905],\n",
              "       [0.52500135],\n",
              "       [0.51853144],\n",
              "       [0.5117761 ],\n",
              "       [0.50544834],\n",
              "       [0.5001991 ],\n",
              "       [0.49706137],\n",
              "       [0.49677077],\n",
              "       [0.49878424],\n",
              "       [0.50203407],\n",
              "       [0.5049291 ],\n",
              "       [0.50660396],\n",
              "       [0.50732887],\n",
              "       [0.5078236 ],\n",
              "       [0.5092785 ],\n",
              "       [0.5129343 ],\n",
              "       [0.51862276],\n",
              "       [0.52513766],\n",
              "       [0.5306032 ],\n",
              "       [0.53360045],\n",
              "       [0.53419435],\n",
              "       [0.53261554],\n",
              "       [0.52973974],\n",
              "       [0.5264832 ],\n",
              "       [0.5236343 ],\n",
              "       [0.5207682 ],\n",
              "       [0.5175235 ],\n",
              "       [0.51354146],\n",
              "       [0.5093304 ],\n",
              "       [0.5055763 ],\n",
              "       [0.5031215 ],\n",
              "       [0.50254226],\n",
              "       [0.5041341 ],\n",
              "       [0.5083468 ],\n",
              "       [0.51532364],\n",
              "       [0.5245082 ],\n",
              "       [0.53483915],\n",
              "       [0.5449828 ],\n",
              "       [0.55478233],\n",
              "       [0.56394315],\n",
              "       [0.5729717 ],\n",
              "       [0.582206  ],\n",
              "       [0.59141195],\n",
              "       [0.59936   ],\n",
              "       [0.6052287 ],\n",
              "       [0.60782   ],\n",
              "       [0.6061946 ],\n",
              "       [0.6007184 ],\n",
              "       [0.5924436 ],\n",
              "       [0.58283067],\n",
              "       [0.57252973],\n",
              "       [0.56190765],\n",
              "       [0.5512679 ],\n",
              "       [0.5408999 ],\n",
              "       [0.5311203 ],\n",
              "       [0.5220802 ],\n",
              "       [0.51382303],\n",
              "       [0.50649524],\n",
              "       [0.5001907 ],\n",
              "       [0.495188  ],\n",
              "       [0.4916883 ],\n",
              "       [0.4891116 ],\n",
              "       [0.48689118],\n",
              "       [0.48446172],\n",
              "       [0.48154062],\n",
              "       [0.47807208],\n",
              "       [0.47405595],\n",
              "       [0.4695332 ],\n",
              "       [0.46456927],\n",
              "       [0.45929816],\n",
              "       [0.45380265],\n",
              "       [0.44795537],\n",
              "       [0.4416372 ],\n",
              "       [0.43481332],\n",
              "       [0.42744052],\n",
              "       [0.41977248],\n",
              "       [0.4124112 ],\n",
              "       [0.40593234],\n",
              "       [0.40077877],\n",
              "       [0.39688417],\n",
              "       [0.39391598],\n",
              "       [0.39145985],\n",
              "       [0.389186  ],\n",
              "       [0.38699818],\n",
              "       [0.3847076 ],\n",
              "       [0.3824424 ],\n",
              "       [0.3804772 ],\n",
              "       [0.378959  ],\n",
              "       [0.377968  ],\n",
              "       [0.37761927],\n",
              "       [0.37815273],\n",
              "       [0.37998724],\n",
              "       [0.38226885],\n",
              "       [0.38386708],\n",
              "       [0.3842474 ],\n",
              "       [0.38309103],\n",
              "       [0.37993786],\n",
              "       [0.3739801 ],\n",
              "       [0.36510938],\n",
              "       [0.3545106 ],\n",
              "       [0.34422803],\n",
              "       [0.33507025],\n",
              "       [0.3270979 ],\n",
              "       [0.32027265],\n",
              "       [0.31458747],\n",
              "       [0.31011048],\n",
              "       [0.30700576],\n",
              "       [0.3054123 ],\n",
              "       [0.30528054],\n",
              "       [0.3063171 ],\n",
              "       [0.30816993],\n",
              "       [0.31070405],\n",
              "       [0.31358483],\n",
              "       [0.31667113],\n",
              "       [0.31991076],\n",
              "       [0.3231865 ],\n",
              "       [0.3264397 ],\n",
              "       [0.32975838],\n",
              "       [0.3332845 ],\n",
              "       [0.33700255],\n",
              "       [0.34068498],\n",
              "       [0.34396487],\n",
              "       [0.34641996],\n",
              "       [0.34765863],\n",
              "       [0.34752724],\n",
              "       [0.3460668 ],\n",
              "       [0.34353188],\n",
              "       [0.34002057],\n",
              "       [0.335822  ],\n",
              "       [0.33140585]], dtype=float32)"
            ]
          },
          "metadata": {},
          "execution_count": 27
        }
      ],
      "source": [
        "y_predict"
      ]
    },
    {
      "cell_type": "code",
      "execution_count": 28,
      "id": "bb57b6b0-95fd-4099-8743-562c7d3dd5f7",
      "metadata": {
        "id": "bb57b6b0-95fd-4099-8743-562c7d3dd5f7"
      },
      "outputs": [],
      "source": [
        "scale = 1/scaler.scale_"
      ]
    },
    {
      "cell_type": "code",
      "execution_count": 29,
      "id": "ab3b9f04-d8d8-4597-ae6b-29a0e52644e5",
      "metadata": {
        "id": "ab3b9f04-d8d8-4597-ae6b-29a0e52644e5"
      },
      "outputs": [],
      "source": [
        "y_predict = y_predict * scale"
      ]
    },
    {
      "cell_type": "code",
      "execution_count": 30,
      "id": "46df61e9-efed-400c-a4dd-551774387838",
      "metadata": {
        "id": "46df61e9-efed-400c-a4dd-551774387838"
      },
      "outputs": [],
      "source": [
        "y = y * scale"
      ]
    },
    {
      "cell_type": "code",
      "execution_count": 31,
      "id": "798d2b07-2ccf-4cfc-893b-4a31c9a7fcb8",
      "metadata": {
        "colab": {
          "base_uri": "https://localhost:8080/",
          "height": 696
        },
        "id": "798d2b07-2ccf-4cfc-893b-4a31c9a7fcb8",
        "outputId": "3f713f6a-bad2-4c79-dbca-e228b9bd9e2b"
      },
      "outputs": [
        {
          "output_type": "display_data",
          "data": {
            "text/plain": [
              "<Figure size 1000x800 with 1 Axes>"
            ],
            "image/png": "[encoded data removed]"
          },
          "metadata": {}
        }
      ],
      "source": [
        "plt.figure(figsize=(10,8))\n",
        "plt.plot(y_predict, 'r', label = 'Predicted price')\n",
        "plt.plot(y, 'g', label = 'Original price')\n",
        "plt.xlabel('Time')\n",
        "plt.ylabel('Price')\n",
        "plt.legend()\n",
        "plt.show()"
      ]
    },
    {
      "cell_type": "code",
      "execution_count": 32,
      "id": "848b8acf-bf73-432a-85e9-b76df952d161",
      "metadata": {
        "id": "848b8acf-bf73-432a-85e9-b76df952d161"
      },
      "outputs": [],
      "source": [
        "model.save('Stock Predictions Model.keras')"
      ]
    },
    {
      "cell_type": "code",
      "execution_count": null,
      "id": "19083d58-881d-4da0-a8cf-d89a7ed8672a",
      "metadata": {
        "id": "19083d58-881d-4da0-a8cf-d89a7ed8672a"
      },
      "outputs": [],
      "source": []
    }
  ],
  "metadata": {
    "kernelspec": {
      "display_name": "Python 3",
      "name": "python3"
    },
    "language_info": {
      "codemirror_mode": {
        "name": "ipython",
        "version": 3
      },
      "file_extension": ".py",
      "mimetype": "text/x-python",
      "name": "python",
      "nbconvert_exporter": "python",
      "pygments_lexer": "ipython3",
      "version": "3.11.5"
    },
    "colab": {
      "provenance": [],
      "gpuType": "T4"
    },
    "accelerator": "GPU"
  },
  "nbformat": 4,
  "nbformat_minor": 5
}